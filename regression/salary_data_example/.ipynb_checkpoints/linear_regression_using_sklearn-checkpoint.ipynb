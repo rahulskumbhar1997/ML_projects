{
 "cells": [
  {
   "cell_type": "code",
   "execution_count": 2,
   "id": "d1ece190-8da0-443e-bf3b-96bfd5148d25",
   "metadata": {},
   "outputs": [],
   "source": [
    "import numpy as np\n",
    "import pandas as pd\n",
    "import matplotlib.pyplot as plt\n",
    "import seaborn as sns"
   ]
  },
  {
   "cell_type": "markdown",
   "id": "527f8fe8-0545-4844-bacc-5bf297e579c9",
   "metadata": {},
   "source": [
    "### Read the dataset"
   ]
  },
  {
   "cell_type": "code",
   "execution_count": 3,
   "id": "170b252a-3ff8-47e4-967c-c379a45de918",
   "metadata": {},
   "outputs": [],
   "source": [
    "df = pd.read_csv('dataset/Salary_Data.csv')"
   ]
  },
  {
   "cell_type": "markdown",
   "id": "ffe5be52-5b7f-4013-bcce-4af77558b2d8",
   "metadata": {},
   "source": [
    "### Get some insights"
   ]
  },
  {
   "cell_type": "code",
   "execution_count": 4,
   "id": "bb264f14-5794-400d-8b7d-0dc5f2acf30b",
   "metadata": {},
   "outputs": [
    {
     "name": "stdout",
     "output_type": "stream",
     "text": [
      "   YearsExperience  Salary\n",
      "0              1.1   39343\n",
      "1              1.3   46205\n",
      "2              1.5   37731\n",
      "3              2.0   43525\n",
      "4              2.2   39891\n"
     ]
    }
   ],
   "source": [
    "print(df.head())"
   ]
  },
  {
   "cell_type": "code",
   "execution_count": 5,
   "id": "09a2732a-3541-4738-82e3-758620be454b",
   "metadata": {},
   "outputs": [
    {
     "name": "stdout",
     "output_type": "stream",
     "text": [
      "<class 'pandas.core.frame.DataFrame'>\n",
      "RangeIndex: 33 entries, 0 to 32\n",
      "Data columns (total 2 columns):\n",
      " #   Column           Non-Null Count  Dtype  \n",
      "---  ------           --------------  -----  \n",
      " 0   YearsExperience  33 non-null     float64\n",
      " 1   Salary           33 non-null     int64  \n",
      "dtypes: float64(1), int64(1)\n",
      "memory usage: 656.0 bytes\n",
      "None\n"
     ]
    }
   ],
   "source": [
    "print(df.info())"
   ]
  },
  {
   "cell_type": "markdown",
   "id": "9da0b4ab-d42d-4457-9c57-df9c344095f1",
   "metadata": {},
   "source": [
    "### Plot the data to get some insights"
   ]
  },
  {
   "cell_type": "code",
   "execution_count": 6,
   "id": "8bcfeeb7-2efb-4585-838f-3a94b0ce9aba",
   "metadata": {},
   "outputs": [
    {
     "data": {
      "image/png": "[encoded data removed]",
      "text/plain": [
       "<Figure size 432x288 with 1 Axes>"
      ]
     },
     "metadata": {
      "needs_background": "light"
     },
     "output_type": "display_data"
    }
   ],
   "source": [
    "plt.scatter(df[\"YearsExperience\"], df[\"Salary\"])\n",
    "plt.xlabel(\"Years of Experience\")\n",
    "plt.ylabel(\"Salary\")\n",
    "plt.show()"
   ]
  },
  {
   "cell_type": "markdown",
   "id": "bb934b80-9583-469b-b84d-e98f30896433",
   "metadata": {},
   "source": [
    "### Prepare training and testing dataset"
   ]
  },
  {
   "cell_type": "code",
   "execution_count": 7,
   "id": "291c6d16-e061-4f1c-82db-8b089951c089",
   "metadata": {},
   "outputs": [],
   "source": [
    "from sklearn.model_selection import train_test_split\n",
    "\n",
    "x = df.drop(\"Salary\", axis=1)\n",
    "y = df[\"Salary\"]\n",
    "\n",
    "x_train, x_test, y_train, y_test = train_test_split(x, y, train_size=0.8)"
   ]
  },
  {
   "cell_type": "markdown",
   "id": "f63cf583-328d-4bc3-bb1b-61828d634883",
   "metadata": {},
   "source": [
    "### Create a model"
   ]
  },
  {
   "cell_type": "code",
   "execution_count": 8,
   "id": "73060323-919e-4c20-b46b-6bc28c6fc310",
   "metadata": {},
   "outputs": [],
   "source": [
    "from sklearn.linear_model import LinearRegression\n",
    "\n",
    "model = LinearRegression()"
   ]
  },
  {
   "cell_type": "markdown",
   "id": "84096b0c-cd0e-47a7-97fd-b849b5457380",
   "metadata": {},
   "source": [
    "### Train the model"
   ]
  },
  {
   "cell_type": "code",
   "execution_count": 9,
   "id": "f8ed775b-461d-4772-baf1-ac7c0f2be865",
   "metadata": {},
   "outputs": [
    {
     "data": {
      "text/plain": [
       "LinearRegression()"
      ]
     },
     "execution_count": 9,
     "metadata": {},
     "output_type": "execute_result"
    }
   ],
   "source": [
    "model.fit(x_train, y_train)"
   ]
  },
  {
   "cell_type": "markdown",
   "id": "0e2dd876-5d20-449e-aa76-77cc238ec7c7",
   "metadata": {},
   "source": [
    "### Predict the result for test dataset"
   ]
  },
  {
   "cell_type": "code",
   "execution_count": 10,
   "id": "bab11cbe-cf77-4f45-b04f-9f0bf0ab3da2",
   "metadata": {},
   "outputs": [],
   "source": [
    "y_prediction = model.predict(x_test)"
   ]
  },
  {
   "cell_type": "markdown",
   "id": "619a3348-07c1-4c09-948a-1a3dbfedc8b9",
   "metadata": {},
   "source": [
    "### Check the accuracy of model"
   ]
  },
  {
   "cell_type": "code",
   "execution_count": 12,
   "id": "6f665c7a-b47d-4e40-ba30-238219508489",
   "metadata": {},
   "outputs": [
    {
     "name": "stdout",
     "output_type": "stream",
     "text": [
      "Mean Absolute error :  5887.793525999933\n",
      "Mean squared error :  55699505.051861964\n",
      "Root mean squared error :  7463.210103692778\n"
     ]
    }
   ],
   "source": [
    "from sklearn.metrics import mean_squared_error, mean_absolute_error\n",
    "\n",
    "mae = mean_absolute_error(y_test, y_prediction)\n",
    "mse = mean_squared_error(y_test, y_prediction)\n",
    "\n",
    "print(\"Mean Absolute error : \",mae)\n",
    "print(\"Mean squared error : \", mse)\n",
    "print(\"Root mean squared error : \", np.sqrt(mse))"
   ]
  },
  {
   "cell_type": "markdown",
   "id": "d9acd27e-b529-4b65-a43a-d7385c164b45",
   "metadata": {},
   "source": [
    "### Plot the predicted result"
   ]
  },
  {
   "cell_type": "code",
   "execution_count": 20,
   "id": "3b50fa99-4f80-41b9-9576-8f418da46843",
   "metadata": {},
   "outputs": [
    {
     "data": {
      "text/plain": [
       "<matplotlib.legend.Legend at 0x7f1d0b5499d0>"
      ]
     },
     "execution_count": 20,
     "metadata": {},
     "output_type": "execute_result"
    },
    {
     "data": {
      "image/png": "[encoded data removed]",
      "text/plain": [
       "<Figure size 432x288 with 1 Axes>"
      ]
     },
     "metadata": {
      "needs_background": "light"
     },
     "output_type": "display_data"
    }
   ],
   "source": [
    "plt.scatter(x_test, y_test, label=\"Actual values\")\n",
    "plt.scatter(x_test, y_prediction, c='red', label=\"Predicted values\")\n",
    "plt.xlabel(\"Years of Experience\")\n",
    "plt.ylabel(\"Salary\")\n",
    "plt.legend()"
   ]
  },
  {
   "cell_type": "code",
   "execution_count": 29,
   "id": "7f444e23-4274-4f78-9577-2a54e566a4e3",
   "metadata": {},
   "outputs": [
    {
     "name": "stdout",
     "output_type": "stream",
     "text": [
      "Intercept value :  24709.586188688103\n",
      "Coefficient value :  [9712.89750059]\n"
     ]
    }
   ],
   "source": [
    "# Intercept value\n",
    "print(\"Intercept value : \",model.intercept_)\n",
    "\n",
    "# Coefficient value \n",
    "print(\"Coefficient value : \", model.coef_)"
   ]
  },
  {
   "cell_type": "code",
   "execution_count": 37,
   "id": "e7405a66-c41f-48cc-866f-bb2d606c1ce0",
   "metadata": {},
   "outputs": [
    {
     "data": {
      "text/plain": [
       "Text(0, 0.5, 'Salary')"
      ]
     },
     "execution_count": 37,
     "metadata": {},
     "output_type": "execute_result"
    },
    {
     "data": {
      "image/png": "[encoded data removed]",
      "text/plain": [
       "<Figure size 432x288 with 1 Axes>"
      ]
     },
     "metadata": {
      "needs_background": "light"
     },
     "output_type": "display_data"
    }
   ],
   "source": [
    "y_predict_eq = x * model.coef_ + model.intercept_\n",
    "\n",
    "plt.scatter(x, y, label=\"Actual data\")\n",
    "plt.plot(x, y_predict_eq, c='red', label=\"Best fit line\")\n",
    "plt.legend()\n",
    "plt.xlabel(\"Years of Experience\")\n",
    "plt.ylabel(\"Salary\")"
   ]
  },
  {
   "cell_type": "code",
   "execution_count": null,
   "id": "8def7c1e-7dc7-496e-ad55-94b5ead9e295",
   "metadata": {},
   "outputs": [],
   "source": []
  }
 ],
 "metadata": {
  "kernelspec": {
   "display_name": "Python 3",
   "language": "python",
   "name": "python3"
  },
  "language_info": {
   "codemirror_mode": {
    "name": "ipython",
    "version": 3
   },
   "file_extension": ".py",
   "mimetype": "text/x-python",
   "name": "python",
   "nbconvert_exporter": "python",
   "pygments_lexer": "ipython3",
   "version": "3.8.10"
  }
 },
 "nbformat": 4,
 "nbformat_minor": 5
}
